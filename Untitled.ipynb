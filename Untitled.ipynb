{
 "cells": [
  {
   "cell_type": "code",
   "execution_count": 2,
   "metadata": {},
   "outputs": [
    {
     "data": {
      "image/png": "[encoded data removed]",
      "text/plain": [
       "<Figure size 432x288 with 1 Axes>"
      ]
     },
     "metadata": {},
     "output_type": "display_data"
    }
   ],
   "source": [
    "%matplotlib inline\n",
    "import matplotlib.pyplot as plt\n",
    "import numpy as np\n",
    "\n",
    "bluehouseX = np.linspace(0, 8, 10)\n",
    "bluehouseY = np.random.uniform(0, 8, 10)\n",
    "pinkhouseX = np.linspace(0.5, 8.5, 10)\n",
    "pinkhouseY = np.random.uniform(0, 5, 10)\n",
    "\n",
    "plt.title(\"A peaceful night...\")\n",
    "for position in [\"right\", \"left\", \"top\", \"bottom\"]:\n",
    "    plt.gca().spines[position].set_color(\"none\")\n",
    "\n",
    "plt.gca().set_fc(\"#00004d\")\n",
    "\n",
    "plt.tick_params(\n",
    "    axis='x',          # changes apply to the x-axis\n",
    "    which='both',      # both major and minor ticks are affected\n",
    "    bottom=False,      # ticks along the bottom edge are off\n",
    "    top=False,         # ticks along the top edge are off\n",
    "    labelbottom=False) # labels along the bottom edge are off\n",
    "\n",
    "plt.tick_params(\n",
    "    axis='y',\n",
    "    which='both',\n",
    "    left=False, \n",
    "    right=False,\n",
    "    labelleft=False) \n",
    "\n",
    "plt.bar(bluehouseX, bluehouseY, facecolor = \"#6699ff\")\n",
    "plt.bar(pinkhouseX, pinkhouseY, facecolor = \"#ff9966\")\n",
    "plt.xlim(0, 10)\n",
    "plt.ylim(0, 10)\n",
    "moon1 = plt.Circle((8.5, 8.5), 0.8, color = \"#ffff66\")\n",
    "moon2 = plt.Circle((8.9, 8.5), 0.5, color = \"#00004d\")\n",
    "plt.gca().add_artist(moon1)\n",
    "plt.gca().add_artist(moon2)\n",
    "\n",
    "plt.show()"
   ]
  }
 ],
 "metadata": {
  "kernelspec": {
   "display_name": "Python 3",
   "language": "python",
   "name": "python3"
  },
  "language_info": {
   "codemirror_mode": {
    "name": "ipython",
    "version": 3
   },
   "file_extension": ".py",
   "mimetype": "text/x-python",
   "name": "python",
   "nbconvert_exporter": "python",
   "pygments_lexer": "ipython3",
   "version": "3.6.5"
  }
 },
 "nbformat": 4,
 "nbformat_minor": 2
}
