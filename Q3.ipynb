{
 "cells": [
  {
   "cell_type": "markdown",
   "metadata": {},
   "source": [
    "<p1>The is the calculator for simple row operation and column operation</p1>\n",
    "\n",
    "input:\n",
    "    1. the matrix calculated\n",
    "    3. the command we wanted to be conducted\n",
    "        。when input is \"R\", print the present situation of the matrix\n",
    "        。if we want to transpose our matrix, input \"T\"\n",
    "        。if we want to do row operation or column operation, we should follow the following input forms\n",
    "            (rows(1) or columns(0) operator, index of target1, index of target2, the target operation)\n",
    "            we support operations:\n",
    "            \n",
    "            for example, if the matrix is \n",
    "                [1, 1, 1]\n",
    "                [2, 2, 2]\n",
    "                [3, 3, 3]\n",
    "            (a)if I use the command \"0, 1, 2, '+'\"\n",
    "                we will add row1 to row2, and the result matrix becomes\n",
    "                [1, 1, 1]\n",
    "                [2, 2, 2]\n",
    "                [5, 5, 5]\n",
    "            (b)if I use the command \"0, 1, 2, '-'\"\n",
    "                we will minus row1 to row2, and the result matrix becomes\n",
    "                [1, 1, 1]\n",
    "                [2, 2, 2]\n",
    "                [3, 3, 3]            \n",
    "            (c)if I use the command \"0, 1, 2, 'S'\"\n",
    "                we will switch row1 to row2, and the result matrix becomes\n",
    "                [1, 1, 1]\n",
    "                [3, 3, 3]\n",
    "                [2, 2, 2]"
   ]
  },
  {
   "cell_type": "code",
   "execution_count": null,
   "metadata": {},
   "outputs": [
    {
     "name": "stdout",
     "output_type": "stream",
     "text": [
      "please input the number of the rows of your matrix:1\n",
      "please input the number of the columns of your matrix:1\n",
      "Please enter the number of your matrix\n",
      "Please first enter each number of the first row according in the ascending order of column indices, followed by those of the second row, ..., until the last number is entered\n",
      "1\n",
      "Please enter the command:R\n",
      "[[1.]]\n"
     ]
    }
   ],
   "source": [
    "import numpy as np\n",
    "\n",
    "#we want to establish a m * n matrix\n",
    "m = int(input(\"please input the number of the rows of your matrix:\"))\n",
    "n = int(input(\"please input the number of the columns of your matrix:\"))\n",
    "matrix = np.zeros((m, n))\n",
    "\n",
    "print(\"Please enter the number of your matrix\")\n",
    "print(\"Please first enter each number of the first row according in the ascending order of column indices\" + \n",
    "      \", followed by those of the second row, ..., until the last number is entered\")\n",
    "for i in range(m):\n",
    "    for j in range(n):\n",
    "        matrix[i][j] = float(input())\n",
    "\n",
    "while True:\n",
    "    command = input(\"Please enter the command:\")\n",
    "    if command == \"R\":\n",
    "        print(matrix)\n",
    "    elif command == \"T\":\n",
    "        matrix = matrix.transpose()\n",
    "    else:\n",
    "        command = np.array(command.split(\", \"))\n",
    "        operation = str(command[3])\n",
    "        command = np.delete(command, 3)\n",
    "        command = command.astype(int)\n",
    "        if command[0] == 0:\n",
    "            if(command[1] >= m) or (command[2] >= m):\n",
    "                raise \"InvalidError\"\n",
    "                \n",
    "            if(operation == 'S'):\n",
    "                egg = np.array(matrix[command[1], :])\n",
    "                matrix[command[1], :] = matrix[command[2], :]\n",
    "                matrix[command[2], :] = egg\n",
    "            elif(operation == '+'):\n",
    "                matrix[command[2], :] += matrix[command[1], :]\n",
    "            elif(operation == '-'):\n",
    "                matrix[command[2], :] -= matrix[command[1], :]\n",
    "        elif command[0] == 1:\n",
    "            if(command[1] >= n) or (command[2] >= n):\n",
    "                raise \"InvalidError\"\n",
    "                \n",
    "            if(operation == 'S'):\n",
    "                egg = np.array(matrix[:, command[1]])\n",
    "                matrix[:, command[1]] = matrix[:, command[2]]\n",
    "                matrix[:, command[2]] = egg\n",
    "            elif(operation == '+'):\n",
    "                matrix[:, command[2]] += matrix[:, command[1]]\n",
    "            elif(operation == '-'):\n",
    "                matrix[:, command[2]] -= matrix[:, command[1]]"
   ]
  }
 ],
 "metadata": {
  "kernelspec": {
   "display_name": "Python 3",
   "language": "python",
   "name": "python3"
  },
  "language_info": {
   "codemirror_mode": {
    "name": "ipython",
    "version": 3
   },
   "file_extension": ".py",
   "mimetype": "text/x-python",
   "name": "python",
   "nbconvert_exporter": "python",
   "pygments_lexer": "ipython3",
   "version": "3.7.1"
  }
 },
 "nbformat": 4,
 "nbformat_minor": 2
}
