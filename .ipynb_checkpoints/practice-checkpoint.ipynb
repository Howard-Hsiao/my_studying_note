{
 "cells": [
  {
   "cell_type": "code",
   "execution_count": 18,
   "metadata": {},
   "outputs": [
    {
     "name": "stdout",
     "output_type": "stream",
     "text": [
      "       (づ｡◕‿‿◕｡)づ\n"
     ]
    }
   ],
   "source": [
    "from IPython.display import clear_output\n",
    "import time\n",
    "import numpy as np\n",
    "\n",
    "emoji = \"(づ｡◕‿‿◕｡)づ\"\n",
    "sp = 0\n",
    "for i in range(25):\n",
    "    k = (-1) ** np.random.randint(1, 3)\n",
    "    sp += k\n",
    "    if(sp < 0):\n",
    "        sp = 0\n",
    "    elif sp > 50:\n",
    "        sp = 50\n",
    "        \n",
    "    clear_output(wait = True)\n",
    "    print(' ' *sp, emoji)\n",
    "    time.sleep(0.1)\n",
    "\n"
   ]
  }
 ],
 "metadata": {
  "kernelspec": {
   "display_name": "Python 3",
   "language": "python",
   "name": "python3"
  },
  "language_info": {
   "codemirror_mode": {
    "name": "ipython",
    "version": 3
   },
   "file_extension": ".py",
   "mimetype": "text/x-python",
   "name": "python",
   "nbconvert_exporter": "python",
   "pygments_lexer": "ipython3",
   "version": "3.6.5"
  }
 },
 "nbformat": 4,
 "nbformat_minor": 2
}
