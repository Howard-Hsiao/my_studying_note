{
 "cells": [
  {
   "cell_type": "code",
   "execution_count": 1,
   "metadata": {},
   "outputs": [
    {
     "name": "stdout",
     "output_type": "stream",
     "text": [
      " (づ｡◕‿‿◕｡)づ\n"
     ]
    }
   ],
   "source": [
    "from IPython.display import clear_output\n",
    "import time\n",
    "import numpy as np\n",
    "\n",
    "emoji = \"(づ｡◕‿‿◕｡)づ\"\n",
    "sp = 0\n",
    "for i in range(25):\n",
    "    k = (-1) ** np.random.randint(1, 3)\n",
    "    sp += k\n",
    "    if(sp < 0):\n",
    "        sp = 0\n",
    "    elif sp > 50:\n",
    "        sp = 50\n",
    "        \n",
    "    clear_output(wait = True)\n",
    "    print(' ' *sp, emoji)\n",
    "    time.sleep(0.1)\n",
    "\n"
   ]
  },
  {
   "cell_type": "code",
   "execution_count": 61,
   "metadata": {},
   "outputs": [
    {
     "data": {
      "application/vnd.jupyter.widget-view+json": {
       "model_id": "579f82aa7ac44bee90676884008d4348",
       "version_major": 2,
       "version_minor": 0
      },
      "text/plain": [
       "interactive(children=(IntSlider(value=50, description='diligence'), Output()), _dom_classes=('widget-interact'…"
      ]
     },
     "metadata": {},
     "output_type": "display_data"
    }
   ],
   "source": [
    "import numpy as np\n",
    "import matplotlib.pyplot as plt\n",
    "from ipywidgets import interact\n",
    "\n",
    "def pursuit(diligence):\n",
    "    me = \"(づ｡◕‿‿◕｡)づ\"\n",
    "    my_target = \"(◕‿◕✿)\"\n",
    "    \n",
    "    if(isinstance(diligence, int)):\n",
    "        distance = 100\n",
    "        love = \"\"\n",
    "        if (0 <= diligence and diligence < distance):\n",
    "            pass\n",
    "        elif (diligence == distance):\n",
    "            love = \"♥\"\n",
    "        else:\n",
    "            raise ValueError    \n",
    "        print()\n",
    "        print(\" \" * diligence, me, \" \" * (distance - diligence), love, my_target, sep = \"\")\n",
    "    else:\n",
    "        raise TypeError\n",
    "\n",
    "interact(pursuit, diligence = (0, 100));"
   ]
  },
  {
   "cell_type": "code",
   "execution_count": 28,
   "metadata": {},
   "outputs": [
    {
     "name": "stdout",
     "output_type": "stream",
     "text": [
      "<IPython.core.display.Math object>\n",
      ">\n"
     ]
    }
   ],
   "source": []
  }
 ],
 "metadata": {
  "kernelspec": {
   "display_name": "Python 3",
   "language": "python",
   "name": "python3"
  },
  "language_info": {
   "codemirror_mode": {
    "name": "ipython",
    "version": 3
   },
   "file_extension": ".py",
   "mimetype": "text/x-python",
   "name": "python",
   "nbconvert_exporter": "python",
   "pygments_lexer": "ipython3",
   "version": "3.7.1"
  }
 },
 "nbformat": 4,
 "nbformat_minor": 2
}
